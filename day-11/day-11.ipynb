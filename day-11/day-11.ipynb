{
 "cells": [
  {
   "cell_type": "code",
   "execution_count": 32,
   "id": "112942a9-e659-4140-bd9e-60c41449ffe6",
   "metadata": {},
   "outputs": [],
   "source": [
    "def read_input():\n",
    "    with open(f\"input.txt\", \"r\") as f:\n",
    "        return f.read().split(\"\\n\\n\")"
   ]
  },
  {
   "cell_type": "code",
   "execution_count": 33,
   "id": "e50fea4e",
   "metadata": {
    "collapsed": false,
    "jupyter": {
     "outputs_hidden": false
    },
    "pycharm": {
     "name": "#%%\n"
    }
   },
   "outputs": [],
   "source": [
    "from operator import mul, add\n",
    "from functools import reduce\n",
    "\n",
    "class Monkey:\n",
    "    def __init__(self, starting_items, operation, divisible_by_test, true_dest, false_dest, monkeys_list):\n",
    "        self.items = starting_items\n",
    "        self.operation = operation\n",
    "        self.divisible_by_test = divisible_by_test\n",
    "        self.true_dest = true_dest\n",
    "        self.false_dest = false_dest\n",
    "        self.inspected_items = 0\n",
    "        self.monkeys_list = monkeys_list\n",
    "\n",
    "    def test(self, item):\n",
    "        return item % self.divisible_by_test == 0\n",
    "\n",
    "    def take_turn(self, part=\"1\"):\n",
    "        self.inspected_items += len(self.items)\n",
    "        while self.items:\n",
    "            item = self.items.pop(0)\n",
    "            item = self.operation(item) \n",
    "            if part == \"1\":\n",
    "                item = self.manage_worry_part_1(item)\n",
    "            else:\n",
    "                item = self.manage_worry_part_2(item)\n",
    "            if self.test(item):\n",
    "                self.throw_to(item, self.true_dest)\n",
    "            else:\n",
    "                self.throw_to(item, self.false_dest)\n",
    "                \n",
    "                \n",
    "    def manage_worry_part_1(self, item):\n",
    "        return item // 3\n",
    "\n",
    "    def manage_worry_part_2(self, item):\n",
    "        return item % reduce(mul, (monkey.divisible_by_test for monkey in self.monkeys_list), 1)\n",
    "\n",
    "    \n",
    "    def operate(self, item):\n",
    "        return self.operation(item)\n",
    "\n",
    "    def receive(self, item):\n",
    "        self.items.append(item)\n",
    "\n",
    "    def throw_to(self, item, monkey_number):\n",
    "        self.monkeys_list[monkey_number].receive(item)\n",
    "\n",
    "    def __repr__(self):\n",
    "        return f\"{self.inspected_items}, item: {self.items}\"\n",
    "\n",
    "\n"
   ]
  },
  {
   "cell_type": "code",
   "execution_count": 34,
   "id": "61e9c2c3",
   "metadata": {
    "collapsed": false,
    "jupyter": {
     "outputs_hidden": false
    },
    "pycharm": {
     "name": "#%%\n"
    }
   },
   "outputs": [],
   "source": [
    "operator_map = {\n",
    "    \"*\": mul,\n",
    "    \"+\": add\n",
    "}\n",
    "\n",
    "def create_operation(op, val):\n",
    "    if val == \"old\":\n",
    "        return lambda x: operator_map[op](x,x)\n",
    "    else:\n",
    "        return lambda x: operator_map[op](x,int(val))\n",
    "\n",
    "def create_monkeys():\n",
    "    monkeys_list = []\n",
    "    for monkey_input in read_input():\n",
    "        lines = monkey_input.split(\"\\n\")\n",
    "        starting_items = [int(x) for x in lines[1].split(\":\")[1].split(\",\")]\n",
    "        op, val = lines[2].split(\"=\")[1].strip().split(\" \")[1:]\n",
    "\n",
    "\n",
    "        divisible_by_test = int(lines[3].split(\" \")[-1])\n",
    "        true_dest = int(lines[4].split(\" \")[-1])\n",
    "        false_dest = int(lines[5].split(\" \")[-1])\n",
    "        monkey = Monkey(\n",
    "            starting_items, create_operation(op,val), divisible_by_test, true_dest,false_dest, monkeys_list\n",
    "        )\n",
    "        monkeys_list.append(monkey)\n",
    "    return monkeys_list\n",
    "\n",
    "def full_turn_part_1(monkey_list):\n",
    "    for monkey in monkey_list:\n",
    "        monkey.take_turn()\n",
    "        \n",
    "        \n",
    "def full_turn_part_2(monkey_list):\n",
    "    for monkey in monkey_list:\n",
    "        monkey.take_turn(\"2\")\n"
   ]
  },
  {
   "cell_type": "code",
   "execution_count": 38,
   "id": "7c41ff44",
   "metadata": {
    "collapsed": false,
    "jupyter": {
     "outputs_hidden": false
    },
    "pycharm": {
     "name": "#%%\n"
    }
   },
   "outputs": [
    {
     "data": {
      "text/plain": [
       "64032"
      ]
     },
     "execution_count": 38,
     "metadata": {},
     "output_type": "execute_result"
    }
   ],
   "source": [
    "# Part 1\n",
    "\n",
    "monkeys = create_monkeys()\n",
    "for _ in range(20):\n",
    "    full_turn_part_1(monkeys)\n",
    "mul(*sorted((m.inspected_items for m in monkeys), reverse=True)[0:2])"
   ]
  },
  {
   "cell_type": "code",
   "execution_count": 40,
   "id": "b09e50ce",
   "metadata": {
    "collapsed": false,
    "jupyter": {
     "outputs_hidden": false
    },
    "pycharm": {
     "name": "#%%\n"
    }
   },
   "outputs": [
    {
     "data": {
      "text/plain": [
       "12729522272"
      ]
     },
     "execution_count": 40,
     "metadata": {},
     "output_type": "execute_result"
    }
   ],
   "source": [
    "# Part 2\n",
    "monkeys = create_monkeys()\n",
    "for _ in range(10000):\n",
    "    full_turn_part_2(monkeys)\n",
    "mul(*sorted((m.inspected_items for m in monkeys), reverse=True)[0:2])"
   ]
  }
 ],
 "metadata": {
  "kernelspec": {
   "display_name": "Python 3 (ipykernel)",
   "language": "python",
   "name": "python3"
  },
  "language_info": {
   "codemirror_mode": {
    "name": "ipython",
    "version": 3
   },
   "file_extension": ".py",
   "mimetype": "text/x-python",
   "name": "python",
   "nbconvert_exporter": "python",
   "pygments_lexer": "ipython3",
   "version": "3.9.6"
  }
 },
 "nbformat": 4,
 "nbformat_minor": 5
}

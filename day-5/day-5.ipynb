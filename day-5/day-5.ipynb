{
 "cells": [
  {
   "cell_type": "code",
   "execution_count": 2,
   "id": "9605f5c8-eab9-4cf0-8a8c-bc4c7434fa1d",
   "metadata": {},
   "outputs": [],
   "source": [
    "import csv\n",
    "def read_initial(): \n",
    "    with open(f\"initial_input.txt\", \"r\") as f:\n",
    "        reader = csv.reader(f)\n",
    "        return [x[0] for x in reader]\n",
    "\n",
    "def read_input(): \n",
    "    with open(f\"input.txt\", \"r\") as f:\n",
    "        return f.read().split(\"\\n\")\n",
    "    \n",
    "    \n",
    "    "
   ]
  },
  {
   "cell_type": "code",
   "execution_count": 3,
   "id": "83a8e1d6-45b8-49d3-8573-452a56c166d3",
   "metadata": {},
   "outputs": [],
   "source": [
    "def create_initial_stacks():\n",
    "    initial = [[line[i] for i in range(1,len(line), 4)] for line in read_initial()]\n",
    "    stacks = [ [] for _ in range(len(initial[0]))]\n",
    "    \n",
    "    for line in initial:\n",
    "        for i, char in enumerate(line):\n",
    "            if char != \" \":\n",
    "                stacks[i].append(char)\n",
    "                \n",
    "    for stack in stacks:\n",
    "        stack.reverse()\n",
    "    \n",
    "    return stacks\n"
   ]
  },
  {
   "cell_type": "code",
   "execution_count": 4,
   "id": "600ddf1a-be62-48e6-8089-371e235d63f0",
   "metadata": {},
   "outputs": [],
   "source": [
    "stacks = create_initial_stacks()"
   ]
  },
  {
   "cell_type": "code",
   "execution_count": 5,
   "id": "832d3617-87b9-4825-9c1f-3788be141756",
   "metadata": {},
   "outputs": [],
   "source": [
    "for index, line in enumerate(read_input()):\n",
    "    l = line.split(\" \")\n",
    "    number, start, end = int(l[1]),int(l[3]) -1 ,int(l[5])-1\n",
    "    for _ in range(number):\n",
    "        stacks[end].append(stacks[start].pop())\n",
    "    \n",
    "    "
   ]
  },
  {
   "cell_type": "code",
   "execution_count": 6,
   "id": "64e01439-3807-4095-84cb-2627fde7349f",
   "metadata": {},
   "outputs": [
    {
     "data": {
      "text/plain": [
       "'RTGWZTHLD'"
      ]
     },
     "execution_count": 6,
     "metadata": {},
     "output_type": "execute_result"
    }
   ],
   "source": [
    "\"\".join(stack[-1] for stack in stacks)"
   ]
  },
  {
   "cell_type": "code",
   "execution_count": 7,
   "id": "5d74d250-5af6-437d-88cb-6f599bb4eb3f",
   "metadata": {},
   "outputs": [],
   "source": [
    "# Part 2"
   ]
  },
  {
   "cell_type": "code",
   "execution_count": 8,
   "id": "3815c7e2-3ef0-4022-8af3-fef99de8662a",
   "metadata": {},
   "outputs": [],
   "source": [
    "stacks = create_initial_stacks()"
   ]
  },
  {
   "cell_type": "code",
   "execution_count": 9,
   "id": "130f4ce8-ea6a-4c04-8ab0-6fbe7312968a",
   "metadata": {},
   "outputs": [],
   "source": [
    "for index, line in enumerate(read_input()):\n",
    "    l = line.split(\" \")\n",
    "    number, start, end = int(l[1]),int(l[3]) -1 ,int(l[5])-1\n",
    "    in_motion = []\n",
    "    for _ in range(number):\n",
    "        in_motion.append(stacks[start].pop())\n",
    "    stacks[end].extend(reversed(in_motion))\n",
    "    "
   ]
  },
  {
   "cell_type": "code",
   "execution_count": 10,
   "id": "97f4e983-accd-4c63-83e9-ad6025838c86",
   "metadata": {},
   "outputs": [
    {
     "data": {
      "text/plain": [
       "'STHGRZZFR'"
      ]
     },
     "execution_count": 10,
     "metadata": {},
     "output_type": "execute_result"
    }
   ],
   "source": [
    "\"\".join(stack[-1] for stack in stacks)"
   ]
  },
  {
   "cell_type": "code",
   "execution_count": null,
   "id": "1018911c-14fe-43c2-9c59-49f5c7f4d736",
   "metadata": {},
   "outputs": [],
   "source": []
  }
 ],
 "metadata": {
  "kernelspec": {
   "display_name": "Python 3 (ipykernel)",
   "language": "python",
   "name": "python3"
  },
  "language_info": {
   "codemirror_mode": {
    "name": "ipython",
    "version": 3
   },
   "file_extension": ".py",
   "mimetype": "text/x-python",
   "name": "python",
   "nbconvert_exporter": "python",
   "pygments_lexer": "ipython3",
   "version": "3.9.6"
  }
 },
 "nbformat": 4,
 "nbformat_minor": 5
}

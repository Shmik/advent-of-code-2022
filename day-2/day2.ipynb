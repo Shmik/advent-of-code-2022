{
 "cells": [
  {
   "cell_type": "code",
   "execution_count": 1,
   "id": "12b4c5a5-af8a-4dc7-a3d1-686de43ac3af",
   "metadata": {},
   "outputs": [],
   "source": [
    "def read_input(day, part): \n",
    "    import csv\n",
    "    with open(f\"part-{part}-input.txt\", \"r\") as f:\n",
    "        reader = csv.reader(f)\n",
    "        x = []\n",
    "        for a in reader:\n",
    "            if len(a) > 0:\n",
    "                x.append(a[0])\n",
    "            else:\n",
    "                x.append(None)\n",
    "    return x\n",
    "    "
   ]
  },
  {
   "cell_type": "code",
   "execution_count": 2,
   "id": "5988dba2-aba3-458c-a07e-078683f58d72",
   "metadata": {},
   "outputs": [],
   "source": [
    "x = read_input(2,1)"
   ]
  },
  {
   "cell_type": "code",
   "execution_count": 3,
   "id": "9a3b736c-6e7d-41f1-9d22-671e41a31100",
   "metadata": {},
   "outputs": [],
   "source": [
    "def getShapeFromValue(i):\n",
    "    if i ==0:\n",
    "        return Rock()\n",
    "    if i ==1:\n",
    "        return Paper()\n",
    "    if i ==2:\n",
    "        return Scissors()\n",
    "\n",
    "class Rock:\n",
    "    value = 0\n",
    "class Paper:\n",
    "    value = 1\n",
    "class Scissors:\n",
    "    value = 2\n",
    "    \n",
    "class Lose:\n",
    "    value = 0\n",
    "    def find_me(self, them):\n",
    "        return getShapeFromValue((them.value +2) % 3)\n",
    "class Draw:\n",
    "    value = 3\n",
    "    def find_me(self, them):\n",
    "        return getShapeFromValue(them.value)\n",
    "    \n",
    "class Win:\n",
    "    value = 6\n",
    "    def find_me(self, them):\n",
    "        return getShapeFromValue((them.value +1) % 3)\n",
    "\n",
    "    \n",
    "def getShape(s):\n",
    "    if s == \"A\" or s ==\"X\":\n",
    "        return Rock()\n",
    "    if s == \"B\" or s ==\"Y\":\n",
    "        return Paper()\n",
    "    if s == \"C\" or s ==\"Z\":\n",
    "        return Scissors()\n",
    "\n",
    "\n",
    "def evaluate(them, me):\n",
    "    if them.value == me.value:\n",
    "        return Draw()\n",
    "    elif me.value == ((them.value +1) % 3):\n",
    "        return Win()\n",
    "    else:\n",
    "        return Lose()\n",
    "    "
   ]
  },
  {
   "cell_type": "code",
   "execution_count": 4,
   "id": "af24358e-c1c9-4ef8-9a61-2935e821dd5e",
   "metadata": {},
   "outputs": [],
   "source": [
    "def score(s):\n",
    "    c, d = s.split(\" \")\n",
    "    them  = getShape(c)\n",
    "    me = getShape(d)\n",
    "    win_lose = evaluate(them, me)\n",
    "    return win_lose.value + me.value + 1\n",
    "    \n",
    "    "
   ]
  },
  {
   "cell_type": "code",
   "execution_count": 5,
   "id": "024bd3ea-b052-4c49-a09b-159bcafcf2e1",
   "metadata": {},
   "outputs": [
    {
     "data": {
      "text/plain": [
       "10941"
      ]
     },
     "execution_count": 5,
     "metadata": {},
     "output_type": "execute_result"
    }
   ],
   "source": [
    "sum(score(a) for a in x)"
   ]
  },
  {
   "cell_type": "code",
   "execution_count": 6,
   "id": "5f7e7479-a5b6-4a77-b2f5-d721b668b548",
   "metadata": {},
   "outputs": [],
   "source": [
    "# Part 2"
   ]
  },
  {
   "cell_type": "code",
   "execution_count": 7,
   "id": "36f6ddb9-2141-4c6f-b4e0-7907b3c419c1",
   "metadata": {},
   "outputs": [],
   "source": [
    "def getWinLoss(s):\n",
    "    if s ==\"X\":\n",
    "        return Lose()\n",
    "    if s ==\"Y\":\n",
    "        return Draw()\n",
    "    if s ==\"Z\":\n",
    "        return Win()\n",
    "    \n",
    "\n",
    "def scorePart2(s):\n",
    "    c, d = s.split(\" \")\n",
    "    them  = getShape(c)\n",
    "    win_lose = getWinLoss(d)\n",
    "    me = win_lose.find_me(them)\n",
    "    \n",
    "    return win_lose.value + me.value + 1\n",
    "    \n",
    "    "
   ]
  },
  {
   "cell_type": "code",
   "execution_count": 8,
   "id": "7aa2c0f7-dbac-48f2-86a8-66be04999336",
   "metadata": {},
   "outputs": [
    {
     "data": {
      "text/plain": [
       "13071"
      ]
     },
     "execution_count": 8,
     "metadata": {},
     "output_type": "execute_result"
    }
   ],
   "source": [
    "sum(scorePart2(a) for a in x)"
   ]
  },
  {
   "cell_type": "code",
   "execution_count": null,
   "id": "d2128eab-cdb0-4d86-ab4b-82025de9d55c",
   "metadata": {},
   "outputs": [],
   "source": []
  }
 ],
 "metadata": {
  "kernelspec": {
   "display_name": "Python 3 (ipykernel)",
   "language": "python",
   "name": "python3"
  },
  "language_info": {
   "codemirror_mode": {
    "name": "ipython",
    "version": 3
   },
   "file_extension": ".py",
   "mimetype": "text/x-python",
   "name": "python",
   "nbconvert_exporter": "python",
   "pygments_lexer": "ipython3",
   "version": "3.9.6"
  }
 },
 "nbformat": 4,
 "nbformat_minor": 5
}

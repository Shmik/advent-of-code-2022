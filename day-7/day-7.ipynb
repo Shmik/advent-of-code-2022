{
 "cells": [
  {
   "cell_type": "code",
   "execution_count": 1,
   "id": "0d59ff1e-da61-42da-93fd-8b5e171165a6",
   "metadata": {},
   "outputs": [],
   "source": [
    "def read_input(): \n",
    "    with open(f\"input.txt\", \"r\") as f:\n",
    "        return f.read().split(\"\\n\")"
   ]
  },
  {
   "cell_type": "code",
   "execution_count": 2,
   "id": "7dc105cd-c42e-4cd0-8a35-2227619a9280",
   "metadata": {},
   "outputs": [],
   "source": [
    "from pathlib import PurePosixPath\n",
    "from itertools import chain\n",
    "\n",
    "# Data Structure\n",
    "\n",
    "class MyFile:\n",
    "    is_dir = False\n",
    "\n",
    "    def __init__(self, name, size):\n",
    "        self.name = name\n",
    "        self.size = int(size)\n",
    "    def get_size(self):\n",
    "        return self.size\n",
    "    \n",
    "    def __repr__(self):\n",
    "        return f\"file: {self.name} {self.size}\"\n",
    "    \n",
    "class Directory:\n",
    "    is_dir = True\n",
    "    def __init__(self, name):\n",
    "        self.name = name\n",
    "        self.children = {}\n",
    "    \n",
    "    def add_dir(self, dir_name):\n",
    "        self.children[dir_name] = Directory(dir_name)\n",
    "    \n",
    "    def add_file(self, file_name, file_size):\n",
    "        self.children[file_name] = MyFile(file_name, file_size)\n",
    "        \n",
    "    def get_size(self):\n",
    "        return sum(x.get_size() for x in self.children.values())\n",
    "    \n",
    "    def get_dir(self, dir_name):\n",
    "        return self.children[dir_name]\n",
    "    \n",
    "    def list_child_directories(self):\n",
    "        direct_children = [x for x in self.children.values() if x.is_dir] \n",
    "        return direct_children + list(chain.from_iterable(x.list_child_directories() for x in direct_children))\n",
    "        \n",
    "    def __repr__(self):\n",
    "        return f\"directory: {self.name}\"\n",
    "    \n",
    "## File System Operations\n",
    "\n",
    "def get_directory_from_path(systemRoot, path):\n",
    "    current_dir = systemRoot\n",
    "    for part in path.parts[1:]:\n",
    "        current_dir = current_dir.get_dir(part)\n",
    "    return current_dir\n",
    "        \n",
    "def change_path(current_path, path):\n",
    "    if path == \"/\":\n",
    "        return PurePosixPath(\"/\")\n",
    "    elif path == \"..\":\n",
    "        return current_path.parent\n",
    "    else:\n",
    "        return current_path / path\n",
    "    \n",
    "def add_dir(systemRoot, cwd, directory_name):\n",
    "    current_dir = get_directory_from_path(systemRoot, cwd)\n",
    "    current_dir.add_dir(directory_name)\n",
    "    \n",
    "def add_file(systemRoot, cwd, file_name, file_size):\n",
    "    current_dir = get_directory_from_path(systemRoot, cwd)\n",
    "    current_dir.add_file(file_name, file_size)\n",
    "\n",
    "    \n",
    "## Parse input lines\n",
    "\n",
    "def parse_command(line, current_path):\n",
    "    # cd, ls\n",
    "    parts = line.split(\" \")\n",
    "    if parts[1] == \"cd\":\n",
    "        directory_name = parts[2]\n",
    "        return change_path(current_path, directory_name)\n",
    "    return current_path\n",
    "    \n",
    "\n",
    "def parse_output(line, root, current_dir):\n",
    "    parts = line.split(\" \")\n",
    "    if parts[0] == \"dir\":\n",
    "        directory_name = parts[1] \n",
    "        add_dir(root, current_dir, directory_name)\n",
    "    else:\n",
    "        file_size, file_name = parts\n",
    "        add_file(root, current_dir, file_name, file_size)\n",
    "\n",
    "# Builder\n",
    "\n",
    "def build_file_system():\n",
    "    root = Directory(\"/\")\n",
    "    cwd = PurePosixPath(\"/\")\n",
    "    for line in read_input():\n",
    "        if line.startswith(\"$\"):\n",
    "            cwd = parse_command(line, cwd)\n",
    "        else:\n",
    "            parse_output(line, root, cwd)\n",
    "    return root\n",
    "    "
   ]
  },
  {
   "cell_type": "code",
   "execution_count": 3,
   "id": "324bc6e6-2b57-4c01-bcc0-904f3162ee79",
   "metadata": {},
   "outputs": [
    {
     "data": {
      "text/plain": "1783610"
     },
     "execution_count": 3,
     "metadata": {},
     "output_type": "execute_result"
    }
   ],
   "source": [
    "# Part 1\n",
    "\n",
    "root = build_file_system()\n",
    "all_directories = root.list_child_directories()\n",
    "sum(x.get_size() for x in all_directories if x.get_size() <= 100000)"
   ]
  },
  {
   "cell_type": "code",
   "execution_count": 4,
   "id": "3c17c3c2-eb31-45bd-985d-ed6ed355ff5d",
   "metadata": {
    "pycharm": {
     "name": "#%%\n"
    }
   },
   "outputs": [
    {
     "data": {
      "text/plain": "4370655"
     },
     "execution_count": 4,
     "metadata": {},
     "output_type": "execute_result"
    }
   ],
   "source": [
    "# Part 2\n",
    "\n",
    "TOTAL_SPACE = 70000000 \n",
    "REQUIRED_SPACE = 30000000\n",
    "used_space = root.get_size()\n",
    "free_space = TOTAL_SPACE - used_space\n",
    "size_to_delete = REQUIRED_SPACE - free_space\n",
    "sorted(x.get_size() for x in all_directories if x.get_size() >= size_to_delete)[0]"
   ]
  },
  {
   "cell_type": "code",
   "execution_count": null,
   "outputs": [],
   "source": [],
   "metadata": {
    "collapsed": false,
    "pycharm": {
     "name": "#%%\n"
    }
   }
  }
 ],
 "metadata": {
  "kernelspec": {
   "display_name": "Python 3 (ipykernel)",
   "language": "python",
   "name": "python3"
  },
  "language_info": {
   "codemirror_mode": {
    "name": "ipython",
    "version": 3
   },
   "file_extension": ".py",
   "mimetype": "text/x-python",
   "name": "python",
   "nbconvert_exporter": "python",
   "pygments_lexer": "ipython3",
   "version": "3.9.6"
  }
 },
 "nbformat": 4,
 "nbformat_minor": 5
}
{
 "cells": [
  {
   "cell_type": "code",
   "execution_count": 1,
   "id": "c52c1939-5b93-44ea-b200-21d11c29fd19",
   "metadata": {
    "pycharm": {
     "is_executing": true
    }
   },
   "outputs": [],
   "source": [
    "def read_input():\n",
    "    with open(f\"input.txt\", \"r\") as f:\n",
    "        return f.read().split(\"\\n\")"
   ]
  },
  {
   "cell_type": "code",
   "execution_count": null,
   "id": "770b9531",
   "metadata": {
    "collapsed": false,
    "jupyter": {
     "outputs_hidden": false
    },
    "pycharm": {
     "name": "#%%\n",
     "is_executing": true
    }
   },
   "outputs": [],
   "source": [
    "class Point:\n",
    "    def __init__(self, x, y):\n",
    "        self.x = x\n",
    "        self.y = y\n",
    "\n",
    "    def as_tuple(self):\n",
    "        return self.x, self.y\n",
    "\n",
    "    def move_left(self):\n",
    "        self.x -=1\n",
    "\n",
    "    def move_right(self):\n",
    "        self.x +=1\n",
    "\n",
    "    def move_up(self):\n",
    "        self.y +=1\n",
    "\n",
    "    def move_down(self):\n",
    "        self.y -=1\n",
    "\n",
    "    def next_to(self, other):\n",
    "        return abs(self.x - other.x) <= 1 and abs(self.y - other.y) <=1\n",
    "\n",
    "    def get_closer_to(self, other):\n",
    "        if self.y > other.y:\n",
    "            self.y -=1\n",
    "        if self.y < other.y:\n",
    "            self.y +=1\n",
    "        if self.x > other.x:\n",
    "            self.x -=1\n",
    "        if self.x < other.x:\n",
    "            self.x +=1\n",
    "\n",
    "\n",
    "class Rope:\n",
    "    def __init__(self, num_knots):\n",
    "        self.knots = [Point(0,0) for _ in range(num_knots)]\n",
    "        self.head = self.knots[0]\n",
    "        self.tail = self.knots[-1]\n",
    "        self.history = [self.tail.as_tuple()]\n",
    "\n",
    "    def move_left(self):\n",
    "        self.head.move_left()\n",
    "\n",
    "    def move_right(self):\n",
    "        self.head.move_right()\n",
    "\n",
    "    def move_up(self):\n",
    "        self.head.move_up()\n",
    "\n",
    "    def move_down(self):\n",
    "        self.head.move_down()\n",
    "\n",
    "    def follow(self):\n",
    "        for i, knot in enumerate(self.knots[1:]):\n",
    "            prev = self.knots[i]\n",
    "            if knot.next_to(prev):\n",
    "                continue\n",
    "            knot.get_closer_to(prev)\n",
    "\n",
    "    def follow_and_record(self):\n",
    "        self.follow()\n",
    "        self.history.append(self.tail.as_tuple())\n",
    "\n",
    "instruction_map =   {\n",
    "    \"U\": \"move_up\",\n",
    "    \"D\": \"move_down\",\n",
    "    \"L\": \"move_left\",\n",
    "    \"R\": \"move_right\"\n",
    "}\n",
    "\n",
    "def run(rope):\n",
    "\n",
    "    for line in read_input():\n",
    "        d, n = line.split()\n",
    "        for _ in range(int(n)):\n",
    "            getattr(rope, instruction_map[d])()\n",
    "            rope.follow_and_record()"
   ]
  },
  {
   "cell_type": "code",
   "execution_count": 3,
   "id": "2e1e9735",
   "metadata": {
    "collapsed": false,
    "jupyter": {
     "outputs_hidden": false
    },
    "pycharm": {
     "name": "#%%\n"
    }
   },
   "outputs": [
    {
     "data": {
      "text/plain": [
       "6023"
      ]
     },
     "execution_count": 3,
     "metadata": {},
     "output_type": "execute_result"
    }
   ],
   "source": [
    "# Part 1\n",
    "\n",
    "part_1_rope = Rope(2)\n",
    "run(part_1_rope)\n",
    "len(set(part_1_rope.history))"
   ]
  },
  {
   "cell_type": "code",
   "execution_count": 4,
   "id": "d55e59fc",
   "metadata": {
    "collapsed": false,
    "jupyter": {
     "outputs_hidden": false
    },
    "pycharm": {
     "name": "#%%\n"
    }
   },
   "outputs": [
    {
     "data": {
      "text/plain": [
       "2533"
      ]
     },
     "execution_count": 4,
     "metadata": {},
     "output_type": "execute_result"
    }
   ],
   "source": [
    "# Part 2\n",
    "part_2_rope = Rope(10)\n",
    "run(part_2_rope)\n",
    "len(set(part_2_rope.history))\n"
   ]
  },
  {
   "cell_type": "code",
   "execution_count": null,
   "id": "c3ac042f",
   "metadata": {
    "collapsed": false,
    "jupyter": {
     "outputs_hidden": false
    },
    "pycharm": {
     "name": "#%%\n"
    }
   },
   "outputs": [],
   "source": []
  }
 ],
 "metadata": {
  "kernelspec": {
   "display_name": "Python 3 (ipykernel)",
   "language": "python",
   "name": "python3"
  },
  "language_info": {
   "codemirror_mode": {
    "name": "ipython",
    "version": 3
   },
   "file_extension": ".py",
   "mimetype": "text/x-python",
   "name": "python",
   "nbconvert_exporter": "python",
   "pygments_lexer": "ipython3",
   "version": "3.9.6"
  }
 },
 "nbformat": 4,
 "nbformat_minor": 5
}
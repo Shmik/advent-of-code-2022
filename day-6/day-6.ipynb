{
 "cells": [
  {
   "cell_type": "code",
   "execution_count": 1,
   "id": "80393d6e-982a-418a-a355-c0f6ad3def12",
   "metadata": {},
   "outputs": [],
   "source": [
    "def read_input(): \n",
    "    with open(f\"input.txt\", \"r\") as f:\n",
    "        return f.read()"
   ]
  },
  {
   "cell_type": "code",
   "execution_count": 2,
   "id": "2253c8d2-cfe4-4127-a615-fed8d413e796",
   "metadata": {},
   "outputs": [],
   "source": [
    "input = read_input()"
   ]
  },
  {
   "cell_type": "code",
   "execution_count": 3,
   "id": "7bf987ee-fb74-4797-8c24-35549ae16a56",
   "metadata": {},
   "outputs": [],
   "source": [
    "def get_marker(num_unique):\n",
    "    for i in range(len(input)-num_unique):\n",
    "        if len(set(input[i:i+num_unique])) == num_unique:\n",
    "           return i + num_unique \n",
    "    \n",
    "    "
   ]
  },
  {
   "cell_type": "code",
   "execution_count": 4,
   "id": "3fee69f3-3710-41e6-b7ad-35e8b6a6ce09",
   "metadata": {},
   "outputs": [
    {
     "data": {
      "text/plain": [
       "1804"
      ]
     },
     "execution_count": 4,
     "metadata": {},
     "output_type": "execute_result"
    }
   ],
   "source": [
    "get_marker(4)"
   ]
  },
  {
   "cell_type": "code",
   "execution_count": 5,
   "id": "1f167cf5-6427-4849-a776-82efb5fede2d",
   "metadata": {},
   "outputs": [],
   "source": [
    "# Part 2"
   ]
  },
  {
   "cell_type": "code",
   "execution_count": 6,
   "id": "b6d692d2-c484-4383-a136-19d9f9b8d503",
   "metadata": {},
   "outputs": [
    {
     "data": {
      "text/plain": [
       "2508"
      ]
     },
     "execution_count": 6,
     "metadata": {},
     "output_type": "execute_result"
    }
   ],
   "source": [
    "get_marker(14)"
   ]
  },
  {
   "cell_type": "code",
   "execution_count": null,
   "id": "37306154-42a5-49bf-bebb-629bfb8f3a0e",
   "metadata": {},
   "outputs": [],
   "source": []
  }
 ],
 "metadata": {
  "kernelspec": {
   "display_name": "Python 3 (ipykernel)",
   "language": "python",
   "name": "python3"
  },
  "language_info": {
   "codemirror_mode": {
    "name": "ipython",
    "version": 3
   },
   "file_extension": ".py",
   "mimetype": "text/x-python",
   "name": "python",
   "nbconvert_exporter": "python",
   "pygments_lexer": "ipython3",
   "version": "3.9.6"
  }
 },
 "nbformat": 4,
 "nbformat_minor": 5
}

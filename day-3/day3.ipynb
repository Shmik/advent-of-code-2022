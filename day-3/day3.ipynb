{
 "cells": [
  {
   "cell_type": "code",
   "execution_count": 1,
   "id": "a29a5d02-f10f-4d91-95d3-f26995a69f62",
   "metadata": {},
   "outputs": [],
   "source": [
    "def read_input(): \n",
    "    import csv\n",
    "    with open(f\"input.txt\", \"r\") as f:\n",
    "        reader = csv.reader(f)\n",
    "        return [x[0] for x in reader]\n",
    "    "
   ]
  },
  {
   "cell_type": "code",
   "execution_count": 2,
   "id": "20b5a5f2-a328-44b9-aad5-0a889d697595",
   "metadata": {},
   "outputs": [],
   "source": [
    "def convertChar(c):\n",
    "    offset = 38 if c.isupper() else 96\n",
    "    return ord(c) - offset\n",
    "    \n",
    "def getNumber(s):\n",
    "    first = s[0: len(s)//2]\n",
    "    second = s[len(s)//2:]\n",
    "    char = list(set(first).intersection(set(second)))[0]\n",
    "    return convertChar(char)"
   ]
  },
  {
   "cell_type": "code",
   "execution_count": 3,
   "id": "eceff132-3302-4a38-b3a2-f4937b72ab37",
   "metadata": {},
   "outputs": [
    {
     "data": {
      "text/plain": [
       "7597"
      ]
     },
     "execution_count": 3,
     "metadata": {},
     "output_type": "execute_result"
    }
   ],
   "source": [
    "sum(getNumber(x) for x in read_input())"
   ]
  },
  {
   "cell_type": "code",
   "execution_count": 4,
   "id": "d12ad897-6d75-42a7-8062-f2c4fe23a2b4",
   "metadata": {},
   "outputs": [],
   "source": [
    "x = read_input()"
   ]
  },
  {
   "cell_type": "code",
   "execution_count": 5,
   "id": "10a626f3-0b8b-4353-b718-0144f7e2a369",
   "metadata": {},
   "outputs": [],
   "source": [
    "grouped = [x[i:i+3] for i in range(0, len(x), 3)]"
   ]
  },
  {
   "cell_type": "code",
   "execution_count": 6,
   "id": "a2c79b15-e0f7-4592-a64d-7fd95ced9410",
   "metadata": {},
   "outputs": [
    {
     "data": {
      "text/plain": [
       "2607"
      ]
     },
     "execution_count": 6,
     "metadata": {},
     "output_type": "execute_result"
    }
   ],
   "source": [
    "sum(\n",
    "    convertChar(\n",
    "        set.intersection(*[set(x) for x in group]).pop()\n",
    "    ) for group in grouped\n",
    ")\n"
   ]
  },
  {
   "cell_type": "code",
   "execution_count": null,
   "id": "adc10331-cb30-44c7-95a7-fd5ef1964497",
   "metadata": {},
   "outputs": [],
   "source": []
  }
 ],
 "metadata": {
  "kernelspec": {
   "display_name": "Python 3 (ipykernel)",
   "language": "python",
   "name": "python3"
  },
  "language_info": {
   "codemirror_mode": {
    "name": "ipython",
    "version": 3
   },
   "file_extension": ".py",
   "mimetype": "text/x-python",
   "name": "python",
   "nbconvert_exporter": "python",
   "pygments_lexer": "ipython3",
   "version": "3.9.6"
  }
 },
 "nbformat": 4,
 "nbformat_minor": 5
}

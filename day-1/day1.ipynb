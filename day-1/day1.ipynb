{
 "cells": [
  {
   "cell_type": "code",
   "execution_count": 2,
   "id": "12b4c5a5-af8a-4dc7-a3d1-686de43ac3af",
   "metadata": {},
   "outputs": [],
   "source": [
    "def read_input(): \n",
    "    import csv\n",
    "    with open(f\"input.txt\", \"r\") as f:\n",
    "        reader = csv.reader(f)\n",
    "        x = []\n",
    "        for a in reader:\n",
    "            if len(a) > 0:\n",
    "                x.append(a[0])\n",
    "            else:\n",
    "                x.append(None)\n",
    "    return x\n",
    "    "
   ]
  },
  {
   "cell_type": "code",
   "execution_count": 4,
   "id": "87d35841-b499-46fc-aa1b-910780f28333",
   "metadata": {},
   "outputs": [],
   "source": [
    "buckets = []\n",
    "s = []\n",
    "for i in read_input():\n",
    "    if i is None:\n",
    "        buckets.append(s)\n",
    "        s = []\n",
    "    else:\n",
    "        s.append(int(i))\n",
    "    "
   ]
  },
  {
   "cell_type": "code",
   "execution_count": 5,
   "id": "a95f4803-9cff-4c4f-a4a9-5dae7586eb4a",
   "metadata": {},
   "outputs": [
    {
     "data": {
      "text/plain": [
       "68802"
      ]
     },
     "execution_count": 5,
     "metadata": {},
     "output_type": "execute_result"
    }
   ],
   "source": [
    "max(sum(i) for i in buckets)"
   ]
  },
  {
   "cell_type": "code",
   "execution_count": 6,
   "id": "4a5045a3-a136-4343-b79a-1706152377bd",
   "metadata": {},
   "outputs": [],
   "source": [
    "# Part 2\n"
   ]
  },
  {
   "cell_type": "code",
   "execution_count": 7,
   "id": "a22833dd-841e-48e6-8950-e4504e4f242a",
   "metadata": {},
   "outputs": [
    {
     "data": {
      "text/plain": [
       "205370"
      ]
     },
     "execution_count": 7,
     "metadata": {},
     "output_type": "execute_result"
    }
   ],
   "source": [
    "sum(sorted((sum(i) for i in buckets), reverse=True)[:3])"
   ]
  },
  {
   "cell_type": "code",
   "execution_count": null,
   "id": "572816c3-56b5-462c-bf73-cbbec7ff2154",
   "metadata": {},
   "outputs": [],
   "source": []
  }
 ],
 "metadata": {
  "kernelspec": {
   "display_name": "Python 3 (ipykernel)",
   "language": "python",
   "name": "python3"
  },
  "language_info": {
   "codemirror_mode": {
    "name": "ipython",
    "version": 3
   },
   "file_extension": ".py",
   "mimetype": "text/x-python",
   "name": "python",
   "nbconvert_exporter": "python",
   "pygments_lexer": "ipython3",
   "version": "3.9.6"
  }
 },
 "nbformat": 4,
 "nbformat_minor": 5
}

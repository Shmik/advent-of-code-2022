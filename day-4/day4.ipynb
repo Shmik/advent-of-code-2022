{
 "cells": [
  {
   "cell_type": "code",
   "execution_count": 1,
   "id": "9ff11b6b-986b-4e27-8fad-40517fcc02ba",
   "metadata": {},
   "outputs": [],
   "source": [
    "def read_input(): \n",
    "    import csv\n",
    "    with open(f\"input.txt\", \"r\") as f:\n",
    "        reader = csv.reader(f)\n",
    "        return list(reader)"
   ]
  },
  {
   "cell_type": "code",
   "execution_count": 2,
   "id": "7ffd3709-fa79-4cb5-834f-1ce182d499ff",
   "metadata": {},
   "outputs": [],
   "source": [
    "def parseSection(s):\n",
    "    a,b = s.split(\"-\")\n",
    "    return int(a), int(b)"
   ]
  },
  {
   "cell_type": "code",
   "execution_count": 3,
   "id": "b811a5d2-9dbf-4aeb-8f5f-c50c7863893a",
   "metadata": {},
   "outputs": [],
   "source": [
    "def contains(a,b):\n",
    "    section1 = parseSection(a)\n",
    "    section2 = parseSection(b)\n",
    "    if (section1[0] <= section2[0] and section1[1] >= section2[1]) or (section1[0] >= section2[0] and section1[1] <= section2[1]):\n",
    "        return 1\n",
    "    return 0"
   ]
  },
  {
   "cell_type": "code",
   "execution_count": 4,
   "id": "9f780d2c-04ec-4440-b50c-bbdc8440f0f3",
   "metadata": {},
   "outputs": [
    {
     "data": {
      "text/plain": [
       "453"
      ]
     },
     "execution_count": 4,
     "metadata": {},
     "output_type": "execute_result"
    }
   ],
   "source": [
    "sum(contains(x,y) for x,y in read_input())"
   ]
  },
  {
   "cell_type": "code",
   "execution_count": 5,
   "id": "fb0abd5d-da8d-4a6e-9511-6180fb5a0d2a",
   "metadata": {},
   "outputs": [],
   "source": [
    "# Part 2\n",
    "\n",
    "def overlap(a,b):\n",
    "    section1 = parseSection(a)\n",
    "    section2 = parseSection(b)\n",
    "    if (section1[0] <= section2[0] and section1[1] >= section2[0]) or (section1[0] <= section2[1] and section1[1] >= section2[1]):\n",
    "        return 1\n",
    "    if contains(a,b):\n",
    "        return 1\n",
    "    return 0"
   ]
  },
  {
   "cell_type": "code",
   "execution_count": 6,
   "id": "362cb7ee-01ed-4989-8a77-164fc0d9155f",
   "metadata": {},
   "outputs": [
    {
     "data": {
      "text/plain": [
       "919"
      ]
     },
     "execution_count": 6,
     "metadata": {},
     "output_type": "execute_result"
    }
   ],
   "source": [
    "sum(overlap(x,y) for x,y in read_input())"
   ]
  },
  {
   "cell_type": "code",
   "execution_count": null,
   "id": "23363dde-6d1f-4cba-a5e6-4a3a0bfa4d3f",
   "metadata": {},
   "outputs": [],
   "source": []
  }
 ],
 "metadata": {
  "kernelspec": {
   "display_name": "Python 3 (ipykernel)",
   "language": "python",
   "name": "python3"
  },
  "language_info": {
   "codemirror_mode": {
    "name": "ipython",
    "version": 3
   },
   "file_extension": ".py",
   "mimetype": "text/x-python",
   "name": "python",
   "nbconvert_exporter": "python",
   "pygments_lexer": "ipython3",
   "version": "3.9.6"
  }
 },
 "nbformat": 4,
 "nbformat_minor": 5
}

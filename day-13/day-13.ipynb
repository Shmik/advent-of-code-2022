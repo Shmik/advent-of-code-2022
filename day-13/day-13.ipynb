{
 "cells": [
  {
   "cell_type": "code",
   "execution_count": 1,
   "id": "3d148a1b-6d51-4c8c-b206-ade9eea42092",
   "metadata": {},
   "outputs": [],
   "source": [
    "def read_input(): \n",
    "    with open(f\"input.txt\", \"r\") as f:\n",
    "        return f.read().split(\"\\n\\n\")"
   ]
  },
  {
   "cell_type": "code",
   "execution_count": 2,
   "id": "3e69a6ee",
   "metadata": {
    "jupyter": {
     "outputs_hidden": false
    },
    "pycharm": {
     "name": "#%%\n"
    }
   },
   "outputs": [],
   "source": [
    "CORRECT = \"CORRECT\"\n",
    "INCORRECT = \"INCORRECT\"\n",
    "CONTINUE = \"CONTINUE\"\n",
    "\n",
    "\n",
    "def compare(left, right):\n",
    "    left_is_int = isinstance(left, int)\n",
    "    right_is_int = isinstance(right, int)\n",
    "    left_is_list = not left_is_int\n",
    "    right_is_list = not right_is_int\n",
    "\n",
    "\n",
    "    if left_is_int and right_is_int:\n",
    "        if left == right:\n",
    "            return CONTINUE\n",
    "        if left < right:\n",
    "            return CORRECT\n",
    "        if left > right:\n",
    "            return INCORRECT\n",
    "    if left_is_list and right_is_int:\n",
    "        return compare(left, [right])\n",
    "    if left_is_int and right_is_list:\n",
    "        return compare([left], right)\n",
    "    if left_is_list and right_is_list:\n",
    "        for i in range(min(len(left), len(right))):\n",
    "            result = compare(left[i], right[i])\n",
    "            if result == CONTINUE:\n",
    "                continue\n",
    "            return result\n",
    "        return compare(len(left), len(right))\n",
    "\n"
   ]
  },
  {
   "cell_type": "code",
   "execution_count": 3,
   "id": "1e980a4a",
   "metadata": {
    "jupyter": {
     "outputs_hidden": false
    },
    "pycharm": {
     "name": "#%%\n"
    }
   },
   "outputs": [
    {
     "data": {
      "text/plain": [
       "5366"
      ]
     },
     "execution_count": 3,
     "metadata": {},
     "output_type": "execute_result"
    }
   ],
   "source": [
    "# Part 1\n",
    "correct_order = []\n",
    "for index, pair in enumerate(read_input(), 1):\n",
    "    left = eval(pair.split(\"\\n\")[0])\n",
    "    right = eval(pair.split(\"\\n\")[1])\n",
    "\n",
    "    result =  compare(left, right)\n",
    "    if result == CORRECT or result == CONTINUE:\n",
    "        correct_order.append(index)\n",
    "sum(correct_order)"
   ]
  },
  {
   "cell_type": "code",
   "execution_count": 4,
   "id": "1477b23a",
   "metadata": {
    "jupyter": {
     "outputs_hidden": false
    },
    "pycharm": {
     "name": "#%%\n"
    }
   },
   "outputs": [
    {
     "data": {
      "text/plain": [
       "23391"
      ]
     },
     "execution_count": 4,
     "metadata": {},
     "output_type": "execute_result"
    }
   ],
   "source": [
    "# Part 2\n",
    "import functools\n",
    "\n",
    "inputs = [eval(x) for x in \"\\n\".join(read_input()).split(\"\\n\")]\n",
    "divider_2 = [[2]]\n",
    "divider_6 = [[6]]\n",
    "\n",
    "all_inputs = inputs + [divider_2, divider_6]\n",
    "\n",
    "def sort_func(x,y):\n",
    "    if compare(x,y) == CORRECT or compare(x,y) == CONTINUE:\n",
    "        return 1\n",
    "    return -1\n",
    "\n",
    "sorted_inputs = sorted(all_inputs, key=functools.cmp_to_key(sort_func), reverse=True)\n",
    "(sorted_inputs.index(divider_2) + 1) * (sorted_inputs.index(divider_6) +1)"
   ]
  },
  {
   "cell_type": "code",
   "execution_count": null,
   "id": "7a768e02",
   "metadata": {},
   "outputs": [],
   "source": []
  }
 ],
 "metadata": {
  "kernelspec": {
   "display_name": "Python 3 (ipykernel)",
   "language": "python",
   "name": "python3"
  },
  "language_info": {
   "codemirror_mode": {
    "name": "ipython",
    "version": 3
   },
   "file_extension": ".py",
   "mimetype": "text/x-python",
   "name": "python",
   "nbconvert_exporter": "python",
   "pygments_lexer": "ipython3",
   "version": "3.9.6"
  }
 },
 "nbformat": 4,
 "nbformat_minor": 5
}

{
 "cells": [
  {
   "cell_type": "code",
   "execution_count": 1,
   "id": "f17bd235-027d-4fb8-bd82-eb115c5e40cd",
   "metadata": {},
   "outputs": [],
   "source": [
    "def read_input(): \n",
    "    with open(f\"input.txt\", \"r\") as f:\n",
    "        return f.read().split(\"\\n\")"
   ]
  },
  {
   "cell_type": "code",
   "execution_count": 2,
   "id": "0f4ac558-759d-4bae-a3a1-4abb1b4085b6",
   "metadata": {},
   "outputs": [],
   "source": [
    "import numpy as np\n",
    "import sys\n",
    "\n",
    "m = np.array([[*x] for x in read_input()])\n",
    "end = (np.where(m == \"E\")[0][0], np.where(m == \"E\")[1][0])\n",
    "start = (np.where(m == \"S\")[0][0], np.where(m == \"S\")[1][0])\n",
    "\n",
    "m[end[0], end[1]] = \"z\"\n",
    "m[start[0], start[1]] = \"a\"\n",
    "\n",
    "m = np.vectorize(lambda x: ord(x)-97)(m)\n",
    "\n",
    "def toVal(m, coord):\n",
    "    return m[coord[0], coord[1]]\n",
    "\n",
    "def get_possibilities(current):\n",
    "    return [\n",
    "        (current[0] + 1, current[1]),\n",
    "        (current[0] -1, current[1]),\n",
    "        (current[0], current[1] + 1),\n",
    "        (current[0], current[1] -1),\n",
    "    ]\n"
   ]
  },
  {
   "cell_type": "code",
   "execution_count": 3,
   "id": "9a4cbd5f",
   "metadata": {
    "collapsed": false,
    "jupyter": {
     "outputs_hidden": false
    },
    "pycharm": {
     "name": "#%%\n"
    }
   },
   "outputs": [
    {
     "data": {
      "text/plain": [
       "361"
      ]
     },
     "execution_count": 3,
     "metadata": {},
     "output_type": "execute_result"
    }
   ],
   "source": [
    "# Part 1\n",
    "\n",
    "def find_best_reception(m, start, destination):\n",
    "    paths = []\n",
    "    def test_possible(coord):\n",
    "        return  0 <= coord[0] < m.shape[0] and 0 <= coord[1] < m.shape[1] and toVal(m, coord) <= toVal(m, current) +1\n",
    "\n",
    "    stack = [(start, 0)]\n",
    "    seen_at = {\n",
    "        start: 0\n",
    "    }\n",
    "\n",
    "\n",
    "    while stack:\n",
    "        current, current_steps = stack.pop()\n",
    "        for coord in get_possibilities(current):\n",
    "            coord_steps = current_steps + 1\n",
    "            if test_possible(coord):\n",
    "                if coord == destination:\n",
    "                    paths.append(coord_steps)\n",
    "                    continue\n",
    "                if coord in seen_at:\n",
    "                    if seen_at[coord] <= coord_steps:\n",
    "                        continue\n",
    "                seen_at[coord] = coord_steps\n",
    "                stack.append(\n",
    "                    (coord, coord_steps)\n",
    "                )\n",
    "    return min(paths)\n",
    "\n",
    "find_best_reception(m, start, end)"
   ]
  },
  {
   "cell_type": "code",
   "execution_count": 4,
   "id": "63b2850f",
   "metadata": {
    "collapsed": false,
    "jupyter": {
     "outputs_hidden": false
    },
    "pycharm": {
     "name": "#%%\n"
    }
   },
   "outputs": [
    {
     "data": {
      "text/plain": [
       "354"
      ]
     },
     "execution_count": 4,
     "metadata": {},
     "output_type": "execute_result"
    }
   ],
   "source": [
    "# Part 2\n",
    "\n",
    "def find_closest_base(m, destination):\n",
    "    paths = []\n",
    "    def test_possible(coord):\n",
    "        return  0 <= coord[0] < m.shape[0] and 0 <= coord[1] < m.shape[1] and toVal(m, current) <= toVal(m, coord) +1\n",
    "\n",
    "    stack = [(destination, 0)]\n",
    "    seen_at = {\n",
    "        destination: 0\n",
    "    }\n",
    "\n",
    "\n",
    "    while stack:\n",
    "        current, current_steps = stack.pop()\n",
    "        for coord in get_possibilities(current):\n",
    "            coord_steps = current_steps + 1\n",
    "            if test_possible(coord):\n",
    "                if toVal(m, coord) == 0:\n",
    "                    paths.append(coord_steps)\n",
    "                    continue\n",
    "                if coord in seen_at:\n",
    "                    if seen_at[coord] <= coord_steps:\n",
    "                        continue\n",
    "                seen_at[coord] = coord_steps\n",
    "                stack.append(\n",
    "                    (coord, coord_steps)\n",
    "                )\n",
    "    return min(paths)\n",
    "\n",
    "find_closest_base(m, end)"
   ]
  }
 ],
 "metadata": {
  "kernelspec": {
   "display_name": "Python 3 (ipykernel)",
   "language": "python",
   "name": "python3"
  },
  "language_info": {
   "codemirror_mode": {
    "name": "ipython",
    "version": 3
   },
   "file_extension": ".py",
   "mimetype": "text/x-python",
   "name": "python",
   "nbconvert_exporter": "python",
   "pygments_lexer": "ipython3",
   "version": "3.9.6"
  }
 },
 "nbformat": 4,
 "nbformat_minor": 5
}

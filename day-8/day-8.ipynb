{
 "cells": [
  {
   "cell_type": "code",
   "execution_count": 1,
   "id": "f50c9d91-a7b9-43d8-bf58-497725ea2c0d",
   "metadata": {},
   "outputs": [],
   "source": [
    "import numpy as np\n",
    "import sys\n",
    "\n",
    "np.set_printoptions(threshold=sys.maxsize)\n",
    "def read_input(): \n",
    "    with open(f\"input.txt\", \"r\") as f:\n",
    "        return [ [*x] for x in f.read().split(\"\\n\")]"
   ]
  },
  {
   "cell_type": "code",
   "execution_count": 2,
   "id": "bcb5c556-2238-4049-9c9b-442a9f07356c",
   "metadata": {},
   "outputs": [
    {
     "data": {
      "text/plain": [
       "1676"
      ]
     },
     "execution_count": 2,
     "metadata": {},
     "output_type": "execute_result"
    }
   ],
   "source": [
    "# Part1 \n",
    "matrix = np.array(read_input(), np.int32)\n",
    "def visible(arr):\n",
    "    current = -1\n",
    "    result = np.zeros(len(arr))\n",
    "    for i, x in enumerate(arr):\n",
    "        visible = x > current\n",
    "        result[i] = visible\n",
    "        current = max(current, x)\n",
    "    return result\n",
    "    \n",
    "def visible_1d(arr):\n",
    "    first = visible(arr)\n",
    "    second = np.flip(visible(np.flip(arr)))\n",
    "    return np.maximum(first, second)\n",
    "\n",
    "horizontally_visible = np.array([visible_1d(x) for x in matrix])\n",
    "vertically_visible = np.transpose(np.array([visible_1d(x) for x in np.transpose(matrix)]))\n",
    "int(np.maximum(horizontally_visible, vertically_visible).sum())"
   ]
  },
  {
   "cell_type": "code",
   "execution_count": 3,
   "id": "c0fa1e47-57a4-40f4-8143-377c83629bfd",
   "metadata": {},
   "outputs": [
    {
     "data": {
      "text/plain": [
       "313200"
      ]
     },
     "execution_count": 3,
     "metadata": {},
     "output_type": "execute_result"
    }
   ],
   "source": [
    "# Part2\n",
    "\n",
    "def viewing_distance(arr, index):\n",
    "    distance = 0\n",
    "    for i in range(index-1, -1, -1):\n",
    "        distance +=1\n",
    "        if arr[i] >= arr[index]:\n",
    "            break\n",
    "    return distance\n",
    "\n",
    "    \n",
    "def viewing_distance_1_direction(arr):\n",
    "    result = np.zeros(len(arr))\n",
    "    for i in range(len(arr)):\n",
    "        result[i] = viewing_distance(arr, i)\n",
    "    return result\n",
    "\n",
    "def viewing_distance_1_dimension(arr):\n",
    "    left = viewing_distance_1_direction(arr)\n",
    "    right = np.flip(viewing_distance_1_direction(np.flip(arr)))\n",
    "    return left * right\n",
    "\n",
    "horizontal_viewing_dist = np.array([viewing_distance_1_dimension(x) for x in matrix])\n",
    "vertically_viewing_dist = np.transpose(\n",
    "    np.array([viewing_distance_1_dimension(x) for x in np.transpose(matrix)])\n",
    ")\n",
    "int((horizontal_viewing_dist * vertically_viewing_dist).max())\n",
    "\n",
    "    "
   ]
  },
  {
   "cell_type": "code",
   "execution_count": null,
   "id": "a6aa786a-c728-40c5-932d-3c600aaeb758",
   "metadata": {},
   "outputs": [],
   "source": []
  }
 ],
 "metadata": {
  "kernelspec": {
   "display_name": "Python 3 (ipykernel)",
   "language": "python",
   "name": "python3"
  },
  "language_info": {
   "codemirror_mode": {
    "name": "ipython",
    "version": 3
   },
   "file_extension": ".py",
   "mimetype": "text/x-python",
   "name": "python",
   "nbconvert_exporter": "python",
   "pygments_lexer": "ipython3",
   "version": "3.9.6"
  }
 },
 "nbformat": 4,
 "nbformat_minor": 5
}

{
 "cells": [
  {
   "cell_type": "code",
   "execution_count": 1,
   "id": "34221bc4",
   "metadata": {
    "collapsed": false,
    "jupyter": {
     "outputs_hidden": false
    },
    "pycharm": {
     "name": "#%%\n"
    }
   },
   "outputs": [],
   "source": [
    "def read_input():\n",
    "    with open(f\"input.txt\", \"r\") as f:\n",
    "        return f.read().split(\"\\n\")"
   ]
  },
  {
   "cell_type": "code",
   "execution_count": 2,
   "id": "a3c8b8b2",
   "metadata": {
    "collapsed": false,
    "jupyter": {
     "outputs_hidden": false
    },
    "pycharm": {
     "name": "#%%\n"
    }
   },
   "outputs": [
    {
     "data": {
      "text/plain": [
       "12980"
      ]
     },
     "execution_count": 2,
     "metadata": {},
     "output_type": "execute_result"
    }
   ],
   "source": [
    "reg = 1\n",
    "history = []\n",
    "for line in read_input():\n",
    "    history.append(reg)\n",
    "    if line == \"noop\":\n",
    "        continue\n",
    "    else:\n",
    "        history.append(reg)\n",
    "        reg += int(line.split()[1])\n",
    "\n",
    "sum(history[i]* (i+1) for i in range(19, len(history)-1, 40))"
   ]
  },
  {
   "cell_type": "code",
   "execution_count": 3,
   "id": "7a7bf819",
   "metadata": {
    "collapsed": false,
    "jupyter": {
     "outputs_hidden": false
    },
    "pycharm": {
     "name": "#%%\n"
    }
   },
   "outputs": [
    {
     "name": "stdout",
     "output_type": "stream",
     "text": [
      "['#' '#' '#' '.' '.' '#' '#' '#' '.' '.' '.' '.' '#' '#' '.' '#' '.' '.' '.' '.' '#' '#' '#' '#' '.' '#' '.' '.' '#' '.' '#' '.' '.' '.' '.' '#' '#' '#' '.' '#']\n",
      "['#' '.' '.' '#' '.' '#' '.' '.' '#' '.' '.' '.' '.' '#' '.' '#' '.' '.' '.' '.' '#' '.' '.' '.' '.' '#' '.' '.' '#' '.' '#' '.' '.' '.' '.' '#' '.' '.' '#' '#']\n",
      "['#' '#' '#' '.' '.' '#' '.' '.' '#' '.' '.' '.' '.' '#' '.' '#' '.' '.' '.' '.' '#' '#' '#' '.' '.' '#' '.' '.' '#' '.' '#' '.' '.' '.' '.' '#' '.' '.' '#' '.']\n",
      "['#' '.' '.' '#' '.' '#' '#' '#' '.' '.' '.' '.' '.' '#' '.' '#' '.' '.' '.' '.' '#' '.' '.' '.' '.' '#' '.' '.' '#' '.' '#' '.' '.' '.' '.' '#' '#' '#' '.' '#']\n",
      "['#' '.' '.' '#' '.' '#' '.' '#' '.' '.' '#' '.' '.' '#' '.' '#' '.' '.' '.' '.' '#' '.' '.' '.' '.' '#' '.' '.' '#' '.' '#' '.' '.' '.' '.' '#' '.' '.' '.' '#']\n",
      "['#' '#' '#' '.' '.' '#' '.' '.' '#' '.' '.' '#' '#' '.' '.' '#' '#' '#' '#' '.' '#' '.' '.' '.' '.' '.' '#' '#' '.' '.' '#' '#' '#' '#' '.' '#' '.' '.' '.' '.']\n"
     ]
    }
   ],
   "source": [
    "# part 2\n",
    "import numpy as np\n",
    "m = []\n",
    "for i, x in enumerate(history, 1):\n",
    "    if i%40>=x>=i%40-2:\n",
    "        m.append(\"#\")\n",
    "    else:\n",
    "        m.append(\".\")\n",
    "\n",
    "display = np.reshape(m, (6,40))\n",
    "for x in display:\n",
    "    print(np.array2string(x, max_line_width=np.inf))\n"
   ]
  }
 ],
 "metadata": {
  "kernelspec": {
   "display_name": "Python 3 (ipykernel)",
   "language": "python",
   "name": "python3"
  },
  "language_info": {
   "codemirror_mode": {
    "name": "ipython",
    "version": 3
   },
   "file_extension": ".py",
   "mimetype": "text/x-python",
   "name": "python",
   "nbconvert_exporter": "python",
   "pygments_lexer": "ipython3",
   "version": "3.9.6"
  }
 },
 "nbformat": 4,
 "nbformat_minor": 5
}
